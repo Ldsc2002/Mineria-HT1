{
 "cells": [
  {
   "cell_type": "code",
   "execution_count": 41,
   "metadata": {},
   "outputs": [],
   "source": [
    "import pandas as pd\n",
    "from pandas_profiling import ProfileReport\n",
    "import matplotlib.pyplot as plt\n",
    "import seaborn as sns\n",
    "\n",
    "from quickda.explore_data import *\n",
    "from quickda.clean_data import *\n",
    "from quickda.explore_numeric import *\n",
    "from quickda.explore_categoric import *\n",
    "from quickda.explore_numeric_categoric import *\n",
    "from quickda.explore_time_series import *"
   ]
  },
  {
   "cell_type": "code",
   "execution_count": 108,
   "metadata": {},
   "outputs": [
    {
     "name": "stderr",
     "output_type": "stream",
     "text": [
      "C:\\Users\\rober\\AppData\\Local\\Temp\\ipykernel_2948\\3962781146.py:2: FutureWarning:\n",
      "\n",
      "The default value of regex will change from True to False in a future version.\n",
      "\n"
     ]
    },
    {
     "ename": "AttributeError",
     "evalue": "'DataFrame' object has no attribute 'to_numeric'",
     "output_type": "error",
     "traceback": [
      "\u001b[1;31m---------------------------------------------------------------------------\u001b[0m",
      "\u001b[1;31mAttributeError\u001b[0m                            Traceback (most recent call last)",
      "Cell \u001b[1;32mIn[108], line 5\u001b[0m\n\u001b[0;32m      3\u001b[0m datos[\u001b[39m'\u001b[39m\u001b[39mattendance\u001b[39m\u001b[39m'\u001b[39m]\u001b[39m=\u001b[39m datos[\u001b[39m'\u001b[39m\u001b[39mattendance\u001b[39m\u001b[39m'\u001b[39m]\u001b[39m.\u001b[39mstr\u001b[39m.\u001b[39mreplace(\u001b[39m\"\u001b[39m\u001b[39m,\u001b[39m\u001b[39m\"\u001b[39m, \u001b[39m\"\u001b[39m\u001b[39m\"\u001b[39m)\n\u001b[0;32m      4\u001b[0m datos \u001b[39m=\u001b[39m datos[datos[\u001b[39m'\u001b[39m\u001b[39mattendance\u001b[39m\u001b[39m'\u001b[39m]\u001b[39m.\u001b[39mstr\u001b[39m.\u001b[39misdigit()]\n\u001b[1;32m----> 5\u001b[0m datos\u001b[39m.\u001b[39;49mto_numeric({\u001b[39m\"\u001b[39m\u001b[39mattedance\u001b[39m\u001b[39m\"\u001b[39m: \u001b[39mint\u001b[39m})\n\u001b[0;32m      6\u001b[0m explore(datos, method\u001b[39m=\u001b[39m\u001b[39m\"\u001b[39m\u001b[39msummarize\u001b[39m\u001b[39m\"\u001b[39m) \n",
      "File \u001b[1;32m~\\AppData\\Local\\Packages\\PythonSoftwareFoundation.Python.3.10_qbz5n2kfra8p0\\LocalCache\\local-packages\\Python310\\site-packages\\pandas\\core\\generic.py:5902\u001b[0m, in \u001b[0;36mNDFrame.__getattr__\u001b[1;34m(self, name)\u001b[0m\n\u001b[0;32m   5895\u001b[0m \u001b[39mif\u001b[39;00m (\n\u001b[0;32m   5896\u001b[0m     name \u001b[39mnot\u001b[39;00m \u001b[39min\u001b[39;00m \u001b[39mself\u001b[39m\u001b[39m.\u001b[39m_internal_names_set\n\u001b[0;32m   5897\u001b[0m     \u001b[39mand\u001b[39;00m name \u001b[39mnot\u001b[39;00m \u001b[39min\u001b[39;00m \u001b[39mself\u001b[39m\u001b[39m.\u001b[39m_metadata\n\u001b[0;32m   5898\u001b[0m     \u001b[39mand\u001b[39;00m name \u001b[39mnot\u001b[39;00m \u001b[39min\u001b[39;00m \u001b[39mself\u001b[39m\u001b[39m.\u001b[39m_accessors\n\u001b[0;32m   5899\u001b[0m     \u001b[39mand\u001b[39;00m \u001b[39mself\u001b[39m\u001b[39m.\u001b[39m_info_axis\u001b[39m.\u001b[39m_can_hold_identifiers_and_holds_name(name)\n\u001b[0;32m   5900\u001b[0m ):\n\u001b[0;32m   5901\u001b[0m     \u001b[39mreturn\u001b[39;00m \u001b[39mself\u001b[39m[name]\n\u001b[1;32m-> 5902\u001b[0m \u001b[39mreturn\u001b[39;00m \u001b[39mobject\u001b[39;49m\u001b[39m.\u001b[39;49m\u001b[39m__getattribute__\u001b[39;49m(\u001b[39mself\u001b[39;49m, name)\n",
      "\u001b[1;31mAttributeError\u001b[0m: 'DataFrame' object has no attribute 'to_numeric'"
     ]
    }
   ],
   "source": [
    "datos = pd.read_csv(\"baseball_reference_2016_scrape.csv\")\n",
    "datos['attendance']= datos['attendance'].str.replace(\"']\", \"\")\n",
    "datos['attendance']= datos['attendance'].str.replace(\",\", \"\")\n",
    "datos = datos[datos['attendance'].str.isdigit()]\n",
    "datos.astype({\"attedance\": int})\n",
    "explore(datos, method=\"summarize\") \n"
   ]
  },
  {
   "cell_type": "code",
   "execution_count": 89,
   "metadata": {},
   "outputs": [
    {
     "name": "stdout",
     "output_type": "stream",
     "text": [
      "No axis named 1 for object type Series\n"
     ]
    }
   ],
   "source": [
    "\n",
    "columnas_a_eliminar = ['other_info_string', 'start_time', 'field_type', 'boxscore_url']\n",
    "datos = clean(datos, method = 'dropcols', columns = columnas_a_eliminar)\n"
   ]
  }
 ],
 "metadata": {
  "kernelspec": {
   "display_name": "Python 3",
   "language": "python",
   "name": "python3"
  },
  "language_info": {
   "codemirror_mode": {
    "name": "ipython",
    "version": 3
   },
   "file_extension": ".py",
   "mimetype": "text/x-python",
   "name": "python",
   "nbconvert_exporter": "python",
   "pygments_lexer": "ipython3",
   "version": "3.10.9"
  },
  "orig_nbformat": 4,
  "vscode": {
   "interpreter": {
    "hash": "cbabb6a6661170c103e1200ae5be4d0ad3a85cf2c948ad02dfb30634516f0145"
   }
  }
 },
 "nbformat": 4,
 "nbformat_minor": 2
}
