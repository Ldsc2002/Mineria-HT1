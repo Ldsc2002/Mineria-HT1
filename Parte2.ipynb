{
 "cells": [
  {
   "attachments": {},
   "cell_type": "markdown",
   "metadata": {},
   "source": [
    "# Importar librerias"
   ]
  },
  {
   "cell_type": "code",
   "execution_count": 21,
   "metadata": {},
   "outputs": [],
   "source": [
    "import numpy as np\n",
    "import matplotlib.pyplot as plt\n",
    "import pandas as pd\n",
    "from sklearn.compose import ColumnTransformer\n",
    "from sklearn.preprocessing import OneHotEncoder\n",
    "from sklearn.model_selection import train_test_split\n",
    "from sklearn.linear_model import LinearRegression\n",
    "from quickda.clean_data import *"
   ]
  },
  {
   "attachments": {},
   "cell_type": "markdown",
   "metadata": {},
   "source": [
    "# Limpiar los datos y seleccionar las columnas a utilizar"
   ]
  },
  {
   "cell_type": "code",
   "execution_count": 22,
   "metadata": {},
   "outputs": [],
   "source": [
    "datos = pd.read_csv('baseball_reference_2016_scrape.csv')\n",
    "\n",
    "datos[\"attendance\"] = datos[\"attendance\"].str.replace(\"']\", \"\", regex=True)\n",
    "datos[\"attendance\"] = datos[\"attendance\"].str.replace(\",\", \"\", regex=True)\n",
    "datos = datos[datos[\"attendance\"].str.isdigit()]\n",
    "datos = datos.astype({\"attendance\": int})\n",
    "\n",
    "datos['game_duration'] = datos['game_duration'].str.replace(\": \", \"\")\n",
    "v = datos[\"game_duration\"].str.split(':', expand=True).astype(int)\n",
    "datos[\"game_duration\"] = v[0]*60 +v[1]\n",
    "datos = datos.astype({\"attendance\": int}, {'game_duration': int})\n",
    "\n",
    "datos[\"venue\"] = datos[\"venue\"].str.replace(\": \", \"\", regex=True)\n",
    "\n",
    "datos = datos[[\"attendance\", \"home_team\", \"away_team\", \"game_duration\", \"start_time\", \"venue\"]]"
   ]
  },
  {
   "attachments": {},
   "cell_type": "markdown",
   "metadata": {},
   "source": [
    "# Codificar los datos"
   ]
  },
  {
   "cell_type": "code",
   "execution_count": 24,
   "metadata": {},
   "outputs": [],
   "source": [
    "X = datos.iloc[:, 1:]\n",
    "y = datos.iloc[:, 0]\n",
    "\n",
    "variables_a_codificar = [\"home_team\", \"away_team\", \"venue\", \"start_time\", \"game_duration\"]\n",
    "transCol = ColumnTransformer(transformers=[('encoder', OneHotEncoder(sparse_output=False), variables_a_codificar)], remainder='passthrough')\n",
    "X = np.array(transCol.fit_transform(X))"
   ]
  },
  {
   "attachments": {},
   "cell_type": "markdown",
   "metadata": {},
   "source": [
    "# Crear el modelo"
   ]
  },
  {
   "cell_type": "code",
   "execution_count": 25,
   "metadata": {},
   "outputs": [],
   "source": [
    "X_entreno, X_prueba, y_entreno, y_prueba = train_test_split(X, y, test_size = 0.2, random_state = 0)\n",
    "regresor = LinearRegression()\n",
    "regresor.fit(X_entreno, y_entreno)"
   ]
  },
  {
   "attachments": {},
   "cell_type": "markdown",
   "metadata": {},
   "source": [
    "# Predecir un resultado"
   ]
  },
  {
   "cell_type": "code",
   "execution_count": 27,
   "metadata": {},
   "outputs": [
    {
     "name": "stdout",
     "output_type": "stream",
     "text": [
      "[43040.]\n"
     ]
    }
   ],
   "source": [
    "varToPredict = []\n",
    "    \n",
    "homeTeam = \"Kansas City Royals\"\n",
    "awayTeam = \"New York Mets\"\n",
    "gameDuration = \"193\"\n",
    "startTime = \"Start Time: 7:38 p.m. Local\"\n",
    "venue = \"Kauffman Stadium\"\n",
    "\n",
    "for column in transCol.get_feature_names_out():\n",
    "    splitVal = column.replace(\"encoder__\", \"\").split(\"_\")\n",
    "    valType = splitVal[0]\n",
    "    testVal = splitVal[len(splitVal) - 1].strip()\n",
    "\n",
    "    if venue == testVal and valType == \"venue\":\n",
    "        varToPredict.append(1)\n",
    "    elif homeTeam == testVal and valType == \"home\":\n",
    "        varToPredict.append(1)\n",
    "    elif awayTeam == testVal and valType == \"away\":\n",
    "        varToPredict.append(1)\n",
    "    elif gameDuration == testVal and valType == \"game\":\n",
    "        varToPredict.append(1)\n",
    "    elif startTime == testVal and valType == \"start\":\n",
    "        varToPredict.append(1)\n",
    "    else:\n",
    "        varToPredict.append(0)\n",
    "\n",
    "print(regresor.predict([varToPredict]))"
   ]
  },
  {
   "attachments": {},
   "cell_type": "markdown",
   "metadata": {},
   "source": [
    "# Cálculo de R cuadrado"
   ]
  },
  {
   "cell_type": "code",
   "execution_count": 28,
   "metadata": {},
   "outputs": [
    {
     "name": "stdout",
     "output_type": "stream",
     "text": [
      "0.7454042906456203\n"
     ]
    }
   ],
   "source": [
    "r_squared = regresor.score(X_entreno, y_entreno)\n",
    "print(r_squared)"
   ]
  }
 ],
 "metadata": {
  "kernelspec": {
   "display_name": "Python 3",
   "language": "python",
   "name": "python3"
  },
  "language_info": {
   "codemirror_mode": {
    "name": "ipython",
    "version": 3
   },
   "file_extension": ".py",
   "mimetype": "text/x-python",
   "name": "python",
   "nbconvert_exporter": "python",
   "pygments_lexer": "ipython3",
   "version": "3.10.9 (main, Dec 15 2022, 17:11:09) [Clang 14.0.0 (clang-1400.0.29.202)]"
  },
  "orig_nbformat": 4,
  "vscode": {
   "interpreter": {
    "hash": "b0fa6594d8f4cbf19f97940f81e996739fb7646882a419484c72d19e05852a7e"
   }
  }
 },
 "nbformat": 4,
 "nbformat_minor": 2
}
