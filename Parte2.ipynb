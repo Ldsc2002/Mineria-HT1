{
 "cells": [
  {
   "attachments": {},
   "cell_type": "markdown",
   "metadata": {},
   "source": [
    "# Importar librerias"
   ]
  },
  {
   "cell_type": "code",
   "execution_count": 51,
   "metadata": {},
   "outputs": [],
   "source": [
    "import numpy as np\n",
    "import matplotlib.pyplot as plt\n",
    "import pandas as pd\n",
    "from sklearn.compose import ColumnTransformer\n",
    "from sklearn.preprocessing import OneHotEncoder\n",
    "from sklearn.model_selection import train_test_split\n",
    "from sklearn.linear_model import LinearRegression\n",
    "from quickda.clean_data import *"
   ]
  },
  {
   "attachments": {},
   "cell_type": "markdown",
   "metadata": {},
   "source": [
    "# Limpiar los data y seleccionar las columnas a utilizar"
   ]
  },
  {
   "cell_type": "code",
   "execution_count": 52,
   "metadata": {},
   "outputs": [],
   "source": [
    "data = pd.read_csv('baseball_reference_2016_scrape.csv')\n",
    "\n",
    "data[\"attendance\"] = data[\"attendance\"].str.replace(\"']\", \"\", regex=True)\n",
    "data[\"attendance\"] = data[\"attendance\"].str.replace(\",\", \"\", regex=True)\n",
    "data = data[data[\"attendance\"].str.isdigit()]\n",
    "data = data.astype({\"attendance\": int})\n",
    "\n",
    "data['game_duration'] = data['game_duration'].str.replace(\": \", \"\")\n",
    "v = data[\"game_duration\"].str.split(':', expand=True).astype(int)\n",
    "data[\"game_duration\"] = v[0]*60 +v[1]\n",
    "data = data.astype({\"attendance\": int}, {'game_duration': int})\n",
    "\n",
    "data[\"venue\"] = data[\"venue\"].str.replace(\": \", \"\", regex=True)\n",
    "\n",
    "data = data[[\"attendance\", \"home_team\", \"away_team\", \"game_duration\", \"start_time\", \"venue\"]]"
   ]
  },
  {
   "attachments": {},
   "cell_type": "markdown",
   "metadata": {},
   "source": [
    "# Codificar los data"
   ]
  },
  {
   "cell_type": "code",
   "execution_count": 53,
   "metadata": {},
   "outputs": [],
   "source": [
    "X = data.iloc[:, 1:]\n",
    "y = data.iloc[:, 0]\n",
    "\n",
    "variables_a_codificar = [\"home_team\", \"away_team\", \"venue\", \"start_time\", \"game_duration\"]\n",
    "transCol = ColumnTransformer(transformers=[('encoder', OneHotEncoder(sparse_output=False), variables_a_codificar)], remainder='passthrough')\n",
    "X = np.array(transCol.fit_transform(X))"
   ]
  },
  {
   "attachments": {},
   "cell_type": "markdown",
   "metadata": {},
   "source": [
    "# Crear el modelo"
   ]
  },
  {
   "cell_type": "code",
   "execution_count": 54,
   "metadata": {},
   "outputs": [
    {
     "data": {
      "text/html": [
       "<style>#sk-container-id-7 {color: black;background-color: white;}#sk-container-id-7 pre{padding: 0;}#sk-container-id-7 div.sk-toggleable {background-color: white;}#sk-container-id-7 label.sk-toggleable__label {cursor: pointer;display: block;width: 100%;margin-bottom: 0;padding: 0.3em;box-sizing: border-box;text-align: center;}#sk-container-id-7 label.sk-toggleable__label-arrow:before {content: \"▸\";float: left;margin-right: 0.25em;color: #696969;}#sk-container-id-7 label.sk-toggleable__label-arrow:hover:before {color: black;}#sk-container-id-7 div.sk-estimator:hover label.sk-toggleable__label-arrow:before {color: black;}#sk-container-id-7 div.sk-toggleable__content {max-height: 0;max-width: 0;overflow: hidden;text-align: left;background-color: #f0f8ff;}#sk-container-id-7 div.sk-toggleable__content pre {margin: 0.2em;color: black;border-radius: 0.25em;background-color: #f0f8ff;}#sk-container-id-7 input.sk-toggleable__control:checked~div.sk-toggleable__content {max-height: 200px;max-width: 100%;overflow: auto;}#sk-container-id-7 input.sk-toggleable__control:checked~label.sk-toggleable__label-arrow:before {content: \"▾\";}#sk-container-id-7 div.sk-estimator input.sk-toggleable__control:checked~label.sk-toggleable__label {background-color: #d4ebff;}#sk-container-id-7 div.sk-label input.sk-toggleable__control:checked~label.sk-toggleable__label {background-color: #d4ebff;}#sk-container-id-7 input.sk-hidden--visually {border: 0;clip: rect(1px 1px 1px 1px);clip: rect(1px, 1px, 1px, 1px);height: 1px;margin: -1px;overflow: hidden;padding: 0;position: absolute;width: 1px;}#sk-container-id-7 div.sk-estimator {font-family: monospace;background-color: #f0f8ff;border: 1px dotted black;border-radius: 0.25em;box-sizing: border-box;margin-bottom: 0.5em;}#sk-container-id-7 div.sk-estimator:hover {background-color: #d4ebff;}#sk-container-id-7 div.sk-parallel-item::after {content: \"\";width: 100%;border-bottom: 1px solid gray;flex-grow: 1;}#sk-container-id-7 div.sk-label:hover label.sk-toggleable__label {background-color: #d4ebff;}#sk-container-id-7 div.sk-serial::before {content: \"\";position: absolute;border-left: 1px solid gray;box-sizing: border-box;top: 0;bottom: 0;left: 50%;z-index: 0;}#sk-container-id-7 div.sk-serial {display: flex;flex-direction: column;align-items: center;background-color: white;padding-right: 0.2em;padding-left: 0.2em;position: relative;}#sk-container-id-7 div.sk-item {position: relative;z-index: 1;}#sk-container-id-7 div.sk-parallel {display: flex;align-items: stretch;justify-content: center;background-color: white;position: relative;}#sk-container-id-7 div.sk-item::before, #sk-container-id-7 div.sk-parallel-item::before {content: \"\";position: absolute;border-left: 1px solid gray;box-sizing: border-box;top: 0;bottom: 0;left: 50%;z-index: -1;}#sk-container-id-7 div.sk-parallel-item {display: flex;flex-direction: column;z-index: 1;position: relative;background-color: white;}#sk-container-id-7 div.sk-parallel-item:first-child::after {align-self: flex-end;width: 50%;}#sk-container-id-7 div.sk-parallel-item:last-child::after {align-self: flex-start;width: 50%;}#sk-container-id-7 div.sk-parallel-item:only-child::after {width: 0;}#sk-container-id-7 div.sk-dashed-wrapped {border: 1px dashed gray;margin: 0 0.4em 0.5em 0.4em;box-sizing: border-box;padding-bottom: 0.4em;background-color: white;}#sk-container-id-7 div.sk-label label {font-family: monospace;font-weight: bold;display: inline-block;line-height: 1.2em;}#sk-container-id-7 div.sk-label-container {text-align: center;}#sk-container-id-7 div.sk-container {/* jupyter's `normalize.less` sets `[hidden] { display: none; }` but bootstrap.min.css set `[hidden] { display: none !important; }` so we also need the `!important` here to be able to override the default hidden behavior on the sphinx rendered scikit-learn.org. See: https://github.com/scikit-learn/scikit-learn/issues/21755 */display: inline-block !important;position: relative;}#sk-container-id-7 div.sk-text-repr-fallback {display: none;}</style><div id=\"sk-container-id-7\" class=\"sk-top-container\"><div class=\"sk-text-repr-fallback\"><pre>LinearRegression()</pre><b>In a Jupyter environment, please rerun this cell to show the HTML representation or trust the notebook. <br />On GitHub, the HTML representation is unable to render, please try loading this page with nbviewer.org.</b></div><div class=\"sk-container\" hidden><div class=\"sk-item\"><div class=\"sk-estimator sk-toggleable\"><input class=\"sk-toggleable__control sk-hidden--visually\" id=\"sk-estimator-id-7\" type=\"checkbox\" checked><label for=\"sk-estimator-id-7\" class=\"sk-toggleable__label sk-toggleable__label-arrow\">LinearRegression</label><div class=\"sk-toggleable__content\"><pre>LinearRegression()</pre></div></div></div></div></div>"
      ],
      "text/plain": [
       "LinearRegression()"
      ]
     },
     "execution_count": 54,
     "metadata": {},
     "output_type": "execute_result"
    }
   ],
   "source": [
    "X_entreno, X_prueba, y_entreno, y_prueba = train_test_split(X, y, test_size = 0.2, random_state = 0)\n",
    "regresor = LinearRegression()\n",
    "regresor.fit(X_entreno, y_entreno)"
   ]
  },
  {
   "attachments": {},
   "cell_type": "markdown",
   "metadata": {},
   "source": [
    "# Cálculo de R cuadrado"
   ]
  },
  {
   "cell_type": "code",
   "execution_count": 55,
   "metadata": {},
   "outputs": [
    {
     "name": "stdout",
     "output_type": "stream",
     "text": [
      "0.7454042906456203\n"
     ]
    }
   ],
   "source": [
    "r_squared = regresor.score(X_entreno, y_entreno)\n",
    "print(r_squared)"
   ]
  },
  {
   "attachments": {},
   "cell_type": "markdown",
   "metadata": {},
   "source": [
    "# Ecuación del modelo"
   ]
  },
  {
   "cell_type": "code",
   "execution_count": 56,
   "metadata": {},
   "outputs": [
    {
     "name": "stdout",
     "output_type": "stream",
     "text": [
      "[ 8.74726335e+15  8.72088128e+15 -1.12292606e+15 -9.44073424e+15\n",
      " -1.16674649e+17  5.54911001e+15  3.74875529e+16 -2.22600907e+16\n",
      "  4.07766263e+16  9.38604884e+16  1.72500507e+17  6.69503594e+16\n",
      " -1.31581775e+16 -9.70752834e+15  3.16067868e+17 -3.05459277e+16\n",
      "  5.72434105e+15  4.75773125e+17  6.72079475e+17  2.03571674e+17\n",
      "  1.23973644e+16  8.82172065e+15 -3.81100443e+17 -4.61411809e+16\n",
      " -2.58222029e+17  3.93649004e+16 -6.03475122e+16  4.88284355e+16\n",
      "  1.26337420e+17 -1.56209924e+17 -5.87385000e+16 -5.87385000e+16\n",
      " -5.87385000e+16 -5.87385000e+16 -5.87385000e+16 -5.87385000e+16\n",
      " -5.87385000e+16 -5.87385000e+16 -5.87385000e+16 -5.87385000e+16\n",
      " -5.87385000e+16 -5.87385000e+16 -5.87385000e+16 -5.87385000e+16\n",
      " -5.87385000e+16 -5.87385000e+16 -5.87385000e+16 -5.87385000e+16\n",
      " -5.87385000e+16 -5.87385000e+16 -5.87385000e+16 -5.87385000e+16\n",
      " -5.87385000e+16 -5.87385000e+16 -5.87385000e+16 -5.87385000e+16\n",
      " -5.87385000e+16 -5.87385000e+16 -5.87385000e+16 -5.87385000e+16\n",
      "  1.16805924e+17  8.38229205e+16  3.12998426e+16  6.19174797e+16\n",
      " -4.05108381e+17  5.82673787e+16 -2.31957454e+16  2.98881167e+16\n",
      "  8.03722714e+16  8.01054773e+16  8.71730615e+16  2.18363075e+16\n",
      "  3.31771901e+16  3.71438359e+15 -2.45403125e+17  1.01210671e+17\n",
      " -1.01835764e+17  2.26874667e+17 -1.32906931e+17  7.17876691e+16\n",
      "  6.18430224e+16  4.51765186e+17  9.29248337e+16 -5.56726771e+16\n",
      "  3.28886772e+17  6.49404020e+16  1.31012255e+17  6.19438617e+16\n",
      "  6.51156330e+16  1.87339392e+17 -6.01414732e+17  5.00249473e+15\n",
      "  5.00249473e+15  5.00249473e+15  5.00249473e+15 -1.57410370e+17\n",
      "  5.00249473e+15 -2.66774612e+16  5.00249473e+15  5.00249473e+15\n",
      "  1.06701935e+16  5.00249473e+15  5.00249473e+15  5.00249473e+15\n",
      "  5.00249473e+15  5.00249473e+15  5.00249473e+15  5.00249473e+15\n",
      "  5.00249473e+15  5.00249473e+15  5.00249473e+15  5.00249473e+15\n",
      "  5.00249473e+15  5.00249473e+15  5.00249473e+15  5.00249473e+15\n",
      "  5.00249473e+15  5.00249473e+15  5.00249473e+15  5.00249473e+15\n",
      "  5.00249473e+15  5.00249473e+15  5.00249473e+15  5.00249473e+15\n",
      "  5.00249473e+15  5.00249473e+15  5.00249473e+15  5.00249473e+15\n",
      "  5.00249473e+15  5.00249473e+15  5.00249473e+15  5.00249473e+15\n",
      "  5.00249473e+15  5.00249473e+15  5.00249473e+15  5.00249473e+15\n",
      "  5.00249473e+15  1.58330147e+17  5.00249473e+15  5.00249473e+15\n",
      "  5.00249473e+15  5.00249473e+15  5.00249473e+15  5.00249473e+15\n",
      "  5.00249473e+15  5.00249473e+15  5.00249473e+15  5.00249473e+15\n",
      "  5.00249473e+15  5.00249473e+15  5.00249473e+15  5.00249473e+15\n",
      "  5.00249473e+15  5.00249473e+15  5.00249473e+15  5.00249473e+15\n",
      "  5.00249473e+15  5.00249473e+15  5.00249473e+15  5.00249473e+15\n",
      "  2.83969755e+16  1.20039228e+15 -1.23923365e+16  1.26199641e+17\n",
      "  5.00249473e+15  5.00249473e+15  5.00249473e+15  5.00249473e+15\n",
      "  5.00249473e+15  5.00249473e+15  5.00249473e+15  5.00249473e+15\n",
      "  5.00249473e+15  5.00249473e+15  5.00249473e+15  5.00249473e+15\n",
      "  5.00249473e+15  2.14132291e+16  5.00249473e+15  5.00249473e+15\n",
      "  5.00249473e+15  5.00249473e+15  5.00249473e+15  5.00249473e+15\n",
      "  5.00249473e+15  5.00249473e+15  5.00249473e+15  5.00249473e+15\n",
      "  5.00249473e+15  5.00249473e+15  5.00249473e+15  5.00249473e+15\n",
      "  5.00249473e+15 -1.54759130e+16  5.00249473e+15  5.00249473e+15\n",
      "  5.00249473e+15  5.00249473e+15  5.00249473e+15  5.00249473e+15\n",
      "  5.00249473e+15  5.00249473e+15  5.00249473e+15  5.00249473e+15\n",
      "  5.00249473e+15  5.00249473e+15  5.00249473e+15  5.00249473e+15\n",
      "  5.00249473e+15  5.00249473e+15  5.00249473e+15  5.00249473e+15\n",
      "  5.00249473e+15  5.00249473e+15  5.00249473e+15  5.00249473e+15\n",
      "  5.00249473e+15  5.00249473e+15  5.00249473e+15  5.00249473e+15\n",
      "  5.00249473e+15  5.00249473e+15  5.00249473e+15  5.00249473e+15\n",
      "  5.00249473e+15  5.00249473e+15  5.00249473e+15  5.00249473e+15\n",
      "  5.00249473e+15  5.00249473e+15  5.00249473e+15  5.00249473e+15\n",
      "  5.00249473e+15  5.00249473e+15  5.00249473e+15  2.49972836e+16\n",
      "  5.00249473e+15  5.00249473e+15  5.00249473e+15  5.00249473e+15\n",
      "  5.00249473e+15  5.00249473e+15  5.00249473e+15  5.00249473e+15\n",
      "  5.00249473e+15  5.00249473e+15  5.00249473e+15  5.00249473e+15\n",
      "  5.00249473e+15  5.00249473e+15  5.00249473e+15  5.00249473e+15\n",
      "  5.00249473e+15  5.00249473e+15  5.00249473e+15  5.00249473e+15\n",
      "  5.00249473e+15 -4.78179968e+16  5.00249473e+15  5.00249473e+15\n",
      "  5.00249473e+15  5.00249473e+15  5.00249473e+15  5.00249473e+15\n",
      "  5.00249473e+15  5.00249473e+15  5.00249473e+15  5.00249473e+15\n",
      "  5.00249473e+15  5.00249473e+15  5.00249473e+15  5.00249473e+15\n",
      "  5.00249473e+15  4.84391302e+16  5.00249473e+15  5.00249473e+15\n",
      "  3.19819993e+16 -3.50411014e+16  5.00249473e+15  5.00249473e+15\n",
      "  5.00249473e+15  5.00249473e+15  5.00249473e+15  5.00249473e+15\n",
      "  8.23476300e+16  5.00249473e+15 -3.65734934e+16  5.00249473e+15\n",
      "  5.00249473e+15 -1.06458217e+16  5.00249473e+15  5.00249473e+15\n",
      "  5.00249473e+15  5.00249473e+15  5.00249473e+15  5.00249473e+15\n",
      "  5.00249473e+15  5.00249473e+15  2.21745131e+14  8.16166655e+15\n",
      " -4.91633456e+16 -5.57982986e+15  8.16166655e+15  8.16166655e+15\n",
      "  8.16166655e+15  8.16166655e+15  8.16166655e+15  8.16166655e+15\n",
      "  8.16166655e+15  8.16166655e+15  8.16166655e+15  8.16166655e+15\n",
      "  8.16166655e+15  8.16166655e+15  8.16166655e+15  8.16166655e+15\n",
      "  8.16166655e+15  8.16166655e+15  8.16166655e+15  8.16166655e+15\n",
      "  8.16166655e+15  8.16166655e+15  8.16166655e+15  8.16166655e+15\n",
      "  8.16166655e+15  8.16166655e+15  8.16166655e+15  8.16166655e+15\n",
      "  8.16166655e+15  8.16166655e+15  8.16166655e+15  8.16166655e+15\n",
      "  8.16166655e+15  8.16166655e+15  8.16166655e+15  8.16166655e+15\n",
      "  8.16166655e+15  8.16166655e+15  8.16166655e+15  8.16166655e+15\n",
      "  8.16166655e+15  8.16166655e+15  8.16166655e+15  8.16166655e+15\n",
      "  8.16166655e+15  8.16166655e+15  8.16166655e+15  8.16166655e+15\n",
      "  8.16166655e+15  8.16166655e+15  8.16166655e+15  8.16166655e+15\n",
      "  8.16166655e+15  8.16166655e+15  8.16166655e+15  8.16166655e+15\n",
      "  8.16166655e+15  8.16166655e+15  8.16166655e+15  8.16166655e+15\n",
      "  8.16166655e+15  8.16166655e+15  8.16166655e+15  8.16166655e+15\n",
      "  8.16166655e+15  8.16166655e+15  8.16166655e+15  8.16166655e+15\n",
      "  8.16166655e+15  8.16166655e+15  8.16166655e+15  8.16166655e+15\n",
      "  8.16166655e+15  8.16166655e+15  8.16166655e+15  8.16166655e+15\n",
      "  8.16166655e+15  8.16166655e+15  8.16166655e+15  8.16166655e+15\n",
      "  8.16166655e+15  8.16166655e+15  8.16166655e+15  8.16166655e+15\n",
      "  8.16166655e+15  8.16166655e+15  8.16166655e+15  8.16166655e+15\n",
      "  8.16166655e+15  8.16166655e+15  8.16166655e+15  8.16166655e+15\n",
      "  8.16166655e+15  8.16166655e+15  8.16166655e+15  8.16166655e+15\n",
      "  8.16166655e+15  8.16166655e+15  8.16166655e+15  8.16166655e+15\n",
      "  8.16166655e+15  8.16166655e+15  8.16166655e+15  8.16166655e+15\n",
      "  8.16166655e+15  8.16166655e+15  8.16166655e+15  8.16166655e+15\n",
      "  8.16166655e+15  8.16166655e+15  8.16166655e+15  8.16166655e+15\n",
      "  8.16166655e+15  8.16166655e+15  8.16166655e+15  8.16166655e+15\n",
      "  8.16166655e+15  8.16166655e+15  8.16166655e+15  8.16166655e+15\n",
      "  8.16166655e+15  8.16166655e+15  8.16166655e+15  8.16166655e+15\n",
      "  8.16166655e+15  8.16166655e+15  8.16166655e+15  8.16166655e+15\n",
      "  8.16166655e+15  8.16166655e+15  8.16166655e+15  8.16166655e+15\n",
      "  8.16166655e+15  8.16166655e+15  8.16166655e+15  8.16166655e+15\n",
      "  8.16166655e+15  8.16166655e+15  8.16166655e+15  8.16166655e+15\n",
      "  8.16166655e+15  8.16166655e+15  8.16166655e+15  8.16166655e+15\n",
      "  8.16166655e+15  8.16166655e+15  8.16166655e+15  8.16166655e+15\n",
      "  8.16166655e+15  8.16166655e+15  8.16166655e+15  8.16166655e+15\n",
      "  8.16166655e+15  8.16166655e+15  8.16166655e+15  8.16166655e+15\n",
      "  8.16166655e+15  8.16166655e+15  8.16166655e+15  8.16166655e+15\n",
      "  8.16166655e+15  8.16166655e+15  8.16166655e+15  8.16166655e+15\n",
      "  8.16166655e+15  0.00000000e+00] -2.509040427658476e+16\n"
     ]
    }
   ],
   "source": [
    "coef = regresor.coef_\n",
    "intercept = regresor.intercept_\n",
    "print(coef, intercept)"
   ]
  },
  {
   "attachments": {},
   "cell_type": "markdown",
   "metadata": {},
   "source": [
    "# Predecir un resultado"
   ]
  },
  {
   "cell_type": "code",
   "execution_count": 57,
   "metadata": {},
   "outputs": [
    {
     "name": "stdout",
     "output_type": "stream",
     "text": [
      "[43040.]\n"
     ]
    }
   ],
   "source": [
    "varToPredict = []\n",
    "    \n",
    "homeTeam = \"Kansas City Royals\"\n",
    "awayTeam = \"New York Mets\"\n",
    "gameDuration = \"193\"\n",
    "startTime = \"Start Time: 7:38 p.m. Local\"\n",
    "venue = \"Kauffman Stadium\"\n",
    "\n",
    "for column in transCol.get_feature_names_out():\n",
    "    splitVal = column.replace(\"encoder__\", \"\").split(\"_\")\n",
    "    valType = splitVal[0]\n",
    "    testVal = splitVal[len(splitVal) - 1].strip()\n",
    "\n",
    "    if venue == testVal and valType == \"venue\":\n",
    "        varToPredict.append(1)\n",
    "    elif homeTeam == testVal and valType == \"home\":\n",
    "        varToPredict.append(1)\n",
    "    elif awayTeam == testVal and valType == \"away\":\n",
    "        varToPredict.append(1)\n",
    "    elif gameDuration == testVal and valType == \"game\":\n",
    "        varToPredict.append(1)\n",
    "    elif startTime == testVal and valType == \"start\":\n",
    "        varToPredict.append(1)\n",
    "    else:\n",
    "        varToPredict.append(0)\n",
    "\n",
    "print(regresor.predict([varToPredict]))"
   ]
  }
 ],
 "metadata": {
  "kernelspec": {
   "display_name": "Python 3",
   "language": "python",
   "name": "python3"
  },
  "language_info": {
   "codemirror_mode": {
    "name": "ipython",
    "version": 3
   },
   "file_extension": ".py",
   "mimetype": "text/x-python",
   "name": "python",
   "nbconvert_exporter": "python",
   "pygments_lexer": "ipython3",
   "version": "3.10.9 (main, Dec 15 2022, 17:11:09) [Clang 14.0.0 (clang-1400.0.29.202)]"
  },
  "orig_nbformat": 4,
  "vscode": {
   "interpreter": {
    "hash": "b0fa6594d8f4cbf19f97940f81e996739fb7646882a419484c72d19e05852a7e"
   }
  }
 },
 "nbformat": 4,
 "nbformat_minor": 2
}
